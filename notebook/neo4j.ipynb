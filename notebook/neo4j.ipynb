{
 "cells": [
  {
   "cell_type": "code",
   "execution_count": 8,
   "id": "f2290a47",
   "metadata": {},
   "outputs": [],
   "source": [
    "import os\n",
    "import asyncio\n",
    "from lightrag import LightRAG, QueryParam\n",
    "from lightrag.llm.openai import gpt_4o_mini_complete, gpt_4o_complete, openai_embed\n",
    "from lightrag.kg.shared_storage import initialize_pipeline_status\n",
    "from lightrag.utils import setup_logger\n",
    "\n",
    "setup_logger(\"lightrag\", level=\"INFO\")"
   ]
  },
  {
   "cell_type": "code",
   "execution_count": 9,
   "id": "adb628ee",
   "metadata": {},
   "outputs": [],
   "source": [
    "WORKING_DIR = \"light_rag_storage2\"\n",
    "if not os.path.exists(WORKING_DIR):\n",
    "    os.mkdir(WORKING_DIR)"
   ]
  },
  {
   "cell_type": "code",
   "execution_count": 10,
   "id": "7a735166",
   "metadata": {},
   "outputs": [],
   "source": [
    "# import os, getpass\n",
    "# if not os.environ.get(\"OPENAI_API_KEY\"):\n",
    "#   os.environ[\"OPENAI_API_KEY\"] = getpass.getpass(\"Enter API key for OpenAI: \")"
   ]
  },
  {
   "cell_type": "code",
   "execution_count": null,
   "id": "82943b60",
   "metadata": {},
   "outputs": [],
   "source": [
    "from lightrag.llm.openai import gpt_4o_mini_complete, openai_embed\n",
    "\n",
    "    \n",
    "async def initialize_rag():\n",
    "    rag = LightRAG(\n",
    "    working_dir=WORKING_DIR,\n",
    "    llm_model_func=gpt_4o_mini_complete,\n",
    "    embedding_func=openai_embed,  # <--- ADD THIS\n",
    "    graph_storage=\"Neo4JStorage\",\n",
    ")\n",
    "    # rag = LightRAG(\n",
    "    #     working_dir=WORKING_DIR,\n",
    "    #     embedding_func=openai_embed,\n",
    "    #     llm_model_func=gpt_4o_mini_complete,\n",
    "    # )\n",
    "    # IMPORTANT: Both initialization calls are required!\n",
    "    await rag.initialize_storages()  # Initialize storage backends\n",
    "    await initialize_pipeline_status()  # Initialize processing pipeline\n",
    "    return rag"
   ]
  },
  {
   "cell_type": "code",
   "execution_count": null,
   "id": "8ddafbba",
   "metadata": {},
   "outputs": [],
   "source": [
    "import os\n",
    "os.environ[\"NEO4J_URI\"] = \"pass url here\"\n",
    "os.environ[\"NEO4J_USERNAME\"] = \"neo4j\"\n",
    "os.environ[\"NEO4J_PASSWORD\"] = \"pass password here\""
   ]
  },
  {
   "cell_type": "code",
   "execution_count": null,
   "id": "24880ea1",
   "metadata": {},
   "outputs": [],
   "source": [
    "import nest_asyncio\n",
    "import asyncio\n",
    "\n",
    "async def main():\n",
    "    try:\n",
    "        # Initialize RAG instance\n",
    "        rag = await initialize_rag()\n",
    "\n",
    "        text = \"\"\"\n",
    "                pass text here\n",
    "                \"\"\"\n",
    "        await rag.ainsert(text)\n",
    "\n",
    "        # Perform hybrid search\n",
    "        mode = \"hybrid\"\n",
    "        print(\n",
    "            await rag.aquery(\n",
    "                \"Explain Transformer?\",\n",
    "                param=QueryParam(mode=mode)\n",
    "            )\n",
    "        )\n",
    "\n",
    "    except Exception as e:\n",
    "        print(f\"An error occurred: {e}\")\n",
    "    finally:\n",
    "        if rag:\n",
    "            await rag.finalize_storages()\n",
    "\n",
    "if __name__ == \"__main__\":\n",
    "    nest_asyncio.apply()\n",
    "    await main()\n"
   ]
  },
  {
   "cell_type": "code",
   "execution_count": null,
   "id": "71f3c0ad",
   "metadata": {},
   "outputs": [],
   "source": []
  }
 ],
 "metadata": {
  "kernelspec": {
   "display_name": "lightrag",
   "language": "python",
   "name": "python3"
  },
  "language_info": {
   "codemirror_mode": {
    "name": "ipython",
    "version": 3
   },
   "file_extension": ".py",
   "mimetype": "text/x-python",
   "name": "python",
   "nbconvert_exporter": "python",
   "pygments_lexer": "ipython3",
   "version": "3.12.12"
  }
 },
 "nbformat": 4,
 "nbformat_minor": 5
}
