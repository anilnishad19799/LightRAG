{
 "cells": [
  {
   "cell_type": "code",
   "execution_count": 1,
   "id": "a04b9e52",
   "metadata": {},
   "outputs": [],
   "source": [
    "import os\n",
    "import asyncio\n",
    "from lightrag import LightRAG, QueryParam\n",
    "from lightrag.llm.openai import gpt_4o_mini_complete, gpt_4o_complete, openai_embed\n",
    "from lightrag.kg.shared_storage import initialize_pipeline_status\n",
    "from lightrag.utils import setup_logger\n",
    "\n",
    "setup_logger(\"lightrag\", level=\"INFO\")\n"
   ]
  },
  {
   "cell_type": "code",
   "execution_count": 12,
   "id": "a2e84e60",
   "metadata": {},
   "outputs": [],
   "source": [
    "\n",
    "WORKING_DIR = \"./rag_storage\"\n",
    "if not os.path.exists(WORKING_DIR):\n",
    "    os.mkdir(WORKING_DIR)\n",
    "\n",
    "async def initialize_rag():\n",
    "    rag = LightRAG(\n",
    "        working_dir=WORKING_DIR,\n",
    "        embedding_func=openai_embed,\n",
    "        llm_model_func=gpt_4o_mini_complete,\n",
    "    )\n",
    "    # IMPORTANT: Both initialization calls are required!\n",
    "    await rag.initialize_storages()  # Initialize storage backends\n",
    "    await initialize_pipeline_status()  # Initialize processing pipeline\n",
    "    return rag\n"
   ]
  },
  {
   "cell_type": "code",
   "execution_count": null,
   "id": "5d156b93",
   "metadata": {},
   "outputs": [
    {
     "name": "stderr",
     "output_type": "stream",
     "text": [
      "INFO: [_] Created new empty graph file: ./rag_storage\\graph_chunk_entity_relation.graphml\n",
      "INFO:nano-vectordb:Init {'embedding_dim': 1536, 'metric': 'cosine', 'storage_file': './rag_storage\\\\vdb_entities.json'} 0 data\n",
      "INFO:nano-vectordb:Init {'embedding_dim': 1536, 'metric': 'cosine', 'storage_file': './rag_storage\\\\vdb_relationships.json'} 0 data\n",
      "INFO:nano-vectordb:Init {'embedding_dim': 1536, 'metric': 'cosine', 'storage_file': './rag_storage\\\\vdb_chunks.json'} 0 data\n",
      "WARNING: Ignoring document ID (already exists): doc-d68fedd9568a7d7345f3c666a73e037d (unknown_source)\n",
      "WARNING: No new unique documents were found.\n",
      "INFO: No documents to process\n",
      "WARNING: low_level_keywords is empty\n",
      "INFO: Query edges: Top themes, Story analysis (top_k:40, cosine:0.2)\n",
      "INFO: Embedding func: 8 new workers initialized (Timeouts: Func: 30s, Worker: 60s, Health Check: 75s)\n",
      "INFO: Raw search results: 0 entities, 0 relations, 0 vector chunks\n",
      "ERROR: Query failed: 'NoneType' object does not support item assignment\n",
      "INFO: Successfully finalized 10 storages\n"
     ]
    },
    {
     "name": "stdout",
     "output_type": "stream",
     "text": [
      "None\n"
     ]
    }
   ],
   "source": [
    "import nest_asyncio\n",
    "nest_asyncio.apply()\n",
    "async def main():\n",
    "    try:\n",
    "        # Initialize RAG instance\n",
    "        rag = await initialize_rag()\n",
    "        await rag.ainsert(\"\"\"\n",
    "                    pass text here\n",
    "                    \"\"\")\n",
    "\n",
    "        # Perform hybrid search\n",
    "        mode = \"hybrid\"\n",
    "        print(\n",
    "          await rag.aquery(\n",
    "              \"What are the top themes in this story?\",\n",
    "              param=QueryParam(mode=mode)\n",
    "          )\n",
    "        )\n",
    "\n",
    "    except Exception as e:\n",
    "        print(f\"An error occurred: {e}\")\n",
    "    finally:\n",
    "        if rag:\n",
    "            await rag.finalize_storages()\n",
    "\n",
    "if __name__ == \"__main__\":\n",
    "    asyncio.run(main())"
   ]
  },
  {
   "cell_type": "code",
   "execution_count": null,
   "id": "358d4fdb",
   "metadata": {},
   "outputs": [],
   "source": []
  }
 ],
 "metadata": {
  "kernelspec": {
   "display_name": "lightrag",
   "language": "python",
   "name": "python3"
  },
  "language_info": {
   "codemirror_mode": {
    "name": "ipython",
    "version": 3
   },
   "file_extension": ".py",
   "mimetype": "text/x-python",
   "name": "python",
   "nbconvert_exporter": "python",
   "pygments_lexer": "ipython3",
   "version": "3.12.12"
  }
 },
 "nbformat": 4,
 "nbformat_minor": 5
}
